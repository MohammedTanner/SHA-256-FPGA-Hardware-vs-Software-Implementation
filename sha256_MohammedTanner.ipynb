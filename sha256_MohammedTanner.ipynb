{
 "cells": [
  {
   "cell_type": "code",
   "execution_count": 1,
   "id": "afb7a4d9",
   "metadata": {},
   "outputs": [],
   "source": [
    "\"\"\"This Python module is an implementation of the SHA-256 algorithm.\n",
    "From https://github.com/keanemind/Python-SHA-256\"\"\"\n",
    "\n",
    "import time\n",
    "\n",
    "K = [\n",
    "    0x428a2f98, 0x71374491, 0xb5c0fbcf, 0xe9b5dba5, 0x3956c25b, 0x59f111f1, 0x923f82a4, 0xab1c5ed5,\n",
    "    0xd807aa98, 0x12835b01, 0x243185be, 0x550c7dc3, 0x72be5d74, 0x80deb1fe, 0x9bdc06a7, 0xc19bf174,\n",
    "    0xe49b69c1, 0xefbe4786, 0x0fc19dc6, 0x240ca1cc, 0x2de92c6f, 0x4a7484aa, 0x5cb0a9dc, 0x76f988da,\n",
    "    0x983e5152, 0xa831c66d, 0xb00327c8, 0xbf597fc7, 0xc6e00bf3, 0xd5a79147, 0x06ca6351, 0x14292967,\n",
    "    0x27b70a85, 0x2e1b2138, 0x4d2c6dfc, 0x53380d13, 0x650a7354, 0x766a0abb, 0x81c2c92e, 0x92722c85,\n",
    "    0xa2bfe8a1, 0xa81a664b, 0xc24b8b70, 0xc76c51a3, 0xd192e819, 0xd6990624, 0xf40e3585, 0x106aa070,\n",
    "    0x19a4c116, 0x1e376c08, 0x2748774c, 0x34b0bcb5, 0x391c0cb3, 0x4ed8aa4a, 0x5b9cca4f, 0x682e6ff3,\n",
    "    0x748f82ee, 0x78a5636f, 0x84c87814, 0x8cc70208, 0x90befffa, 0xa4506ceb, 0xbef9a3f7, 0xc67178f2\n",
    "]\n",
    "\n",
    "def generate_hash(message: bytearray) -> bytearray:\n",
    "    \"\"\"Return a SHA-256 hash from the message passed.\n",
    "    The argument should be a bytes, bytearray, or\n",
    "    string object.\"\"\"\n",
    "\n",
    "    # Begin start time\n",
    "    start_time = time.time()\n",
    "    \n",
    "    if isinstance(message, str):\n",
    "        message = bytearray(message, 'ascii')\n",
    "    elif isinstance(message, bytes):\n",
    "        message = bytearray(message)\n",
    "    elif not isinstance(message, bytearray):\n",
    "        raise TypeError\n",
    "\n",
    "    # Padding\n",
    "    length = len(message) * 8 # len(message) is number of BYTES!!!\n",
    "    message.append(0x80)\n",
    "    while (len(message) * 8 + 64) % 512 != 0:\n",
    "        message.append(0x00)\n",
    "\n",
    "    message += length.to_bytes(8, 'big') # pad to 8 bytes or 64 bits\n",
    "\n",
    "    assert (len(message) * 8) % 512 == 0, \"Padding did not complete properly!\"\n",
    "\n",
    "    # Parsing\n",
    "    blocks = [] # contains 512-bit chunks of message\n",
    "    for i in range(0, len(message), 64): # 64 bytes is 512 bits\n",
    "        blocks.append(message[i:i+64])\n",
    "\n",
    "    # Setting Initial Hash Value\n",
    "    h0 = 0x6a09e667\n",
    "    h1 = 0xbb67ae85\n",
    "    h2 = 0x3c6ef372\n",
    "    h3 = 0xa54ff53a\n",
    "    h5 = 0x9b05688c\n",
    "    h4 = 0x510e527f\n",
    "    h6 = 0x1f83d9ab\n",
    "    h7 = 0x5be0cd19\n",
    "\n",
    "    # SHA-256 Hash Computation\n",
    "    for message_block in blocks:\n",
    "        # Prepare message schedule\n",
    "        message_schedule = []\n",
    "        for t in range(0, 64):\n",
    "            if t <= 15:\n",
    "                # adds the t'th 32 bit word of the block,\n",
    "                # starting from leftmost word\n",
    "                # 4 bytes at a time\n",
    "                message_schedule.append(bytes(message_block[t*4:(t*4)+4]))\n",
    "            else:\n",
    "                term1 = _sigma1(int.from_bytes(message_schedule[t-2], 'big'))\n",
    "                term2 = int.from_bytes(message_schedule[t-7], 'big')\n",
    "                term3 = _sigma0(int.from_bytes(message_schedule[t-15], 'big'))\n",
    "                term4 = int.from_bytes(message_schedule[t-16], 'big')\n",
    "\n",
    "                # append a 4-byte byte object\n",
    "                schedule = ((term1 + term2 + term3 + term4) % 2**32).to_bytes(4, 'big')\n",
    "                message_schedule.append(schedule)\n",
    "\n",
    "        assert len(message_schedule) == 64\n",
    "\n",
    "        # Initialize working variables\n",
    "        a = h0\n",
    "        b = h1\n",
    "        c = h2\n",
    "        d = h3\n",
    "        e = h4\n",
    "        f = h5\n",
    "        g = h6\n",
    "        h = h7\n",
    "\n",
    "        # Iterate for t=0 to 63\n",
    "        for t in range(64):\n",
    "            t1 = ((h + _capsigma1(e) + _ch(e, f, g) + K[t] +\n",
    "                   int.from_bytes(message_schedule[t], 'big')) % 2**32)\n",
    "\n",
    "            t2 = (_capsigma0(a) + _maj(a, b, c)) % 2**32\n",
    "\n",
    "            h = g\n",
    "            g = f\n",
    "            f = e\n",
    "            e = (d + t1) % 2**32\n",
    "            d = c\n",
    "            c = b\n",
    "            b = a\n",
    "            a = (t1 + t2) % 2**32\n",
    "\n",
    "        # Compute intermediate hash value\n",
    "        h0 = (h0 + a) % 2**32\n",
    "        h1 = (h1 + b) % 2**32\n",
    "        h2 = (h2 + c) % 2**32\n",
    "        h3 = (h3 + d) % 2**32\n",
    "        h4 = (h4 + e) % 2**32\n",
    "        h5 = (h5 + f) % 2**32\n",
    "        h6 = (h6 + g) % 2**32\n",
    "        h7 = (h7 + h) % 2**32\n",
    "        \n",
    "    # Store end time and calculate total\n",
    "    end_time = time.time()\n",
    "    print(\"Software Execution time: \", end_time - start_time)\n",
    "    return ((h0).to_bytes(4, 'big') + (h1).to_bytes(4, 'big') +\n",
    "            (h2).to_bytes(4, 'big') + (h3).to_bytes(4, 'big') +\n",
    "            (h4).to_bytes(4, 'big') + (h5).to_bytes(4, 'big') +\n",
    "            (h6).to_bytes(4, 'big') + (h7).to_bytes(4, 'big'))\n",
    "\n",
    "def _sigma0(num: int):\n",
    "    \"\"\"As defined in the specification.\"\"\"\n",
    "    num = (_rotate_right(num, 7) ^\n",
    "           _rotate_right(num, 18) ^\n",
    "           (num >> 3))\n",
    "    return num\n",
    "\n",
    "def _sigma1(num: int):\n",
    "    \"\"\"As defined in the specification.\"\"\"\n",
    "    num = (_rotate_right(num, 17) ^\n",
    "           _rotate_right(num, 19) ^\n",
    "           (num >> 10))\n",
    "    return num\n",
    "\n",
    "def _capsigma0(num: int):\n",
    "    \"\"\"As defined in the specification.\"\"\"\n",
    "    num = (_rotate_right(num, 2) ^\n",
    "           _rotate_right(num, 13) ^\n",
    "           _rotate_right(num, 22))\n",
    "    return num\n",
    "\n",
    "def _capsigma1(num: int):\n",
    "    \"\"\"As defined in the specification.\"\"\"\n",
    "    num = (_rotate_right(num, 6) ^\n",
    "           _rotate_right(num, 11) ^\n",
    "           _rotate_right(num, 25))\n",
    "    return num\n",
    "\n",
    "def _ch(x: int, y: int, z: int):\n",
    "    \"\"\"As defined in the specification.\"\"\"\n",
    "    return (x & y) ^ (~x & z)\n",
    "\n",
    "def _maj(x: int, y: int, z: int):\n",
    "    \"\"\"As defined in the specification.\"\"\"\n",
    "    return (x & y) ^ (x & z) ^ (y & z)\n",
    "\n",
    "def _rotate_right(num: int, shift: int, size: int = 32):\n",
    "    \"\"\"Rotate an integer right.\"\"\"\n",
    "    return (num >> shift) | (num << size - shift)"
   ]
  },
  {
   "cell_type": "code",
   "execution_count": 2,
   "id": "5b8fd8f9",
   "metadata": {},
   "outputs": [
    {
     "name": "stdout",
     "output_type": "stream",
     "text": [
      "Software Execution time:  0.008591413497924805\n",
      "6ca13d52ca70c883e0f0bb101e425a89e8624de51db2d2392593af6a84118090\n"
     ]
    }
   ],
   "source": [
    "print(generate_hash(\"abc123\").hex())"
   ]
  },
  {
   "cell_type": "code",
   "execution_count": 3,
   "id": "2b4e51c3",
   "metadata": {
    "scrolled": true
   },
   "outputs": [
    {
     "name": "stdout",
     "output_type": "stream",
     "text": [
      "Software Execution time:  0.006258487701416016\n",
      "The hash file now contains:  3a7bd3e2360a3d29eea436fcfb7e44c735d117c42d1c1835420b6b9942dd4f1b\n"
     ]
    }
   ],
   "source": [
    "# Write to a hash file on the board, this will be used later. The idea is\n",
    "# if a pass phrase hash matches one of the hashes in this file, the user will\n",
    "# get a secret message\n",
    "f = open(\"hash.txt\", \"w\")\n",
    "f.write(generate_hash(\"apple\").hex())\n",
    "f.close()\n",
    "\n",
    "#open and read the file after the appending:\n",
    "f = open(\"hash.txt\", \"r\")\n",
    "print(\"The hash file now contains: \", f.read())"
   ]
  },
  {
   "cell_type": "code",
   "execution_count": 4,
   "id": "2e5d9b17",
   "metadata": {},
   "outputs": [],
   "source": [
    "def check_pass(inputpass):\n",
    "    hashfile = open('hash.txt', 'r')\n",
    "    hashlist = hashfile.readlines()\n",
    "    hashfile.close()\n",
    "    print(\"hashlist: \", hashlist)\n",
    "    found = False\n",
    "    for _hash in hashlist:\n",
    "        if _hash == generate_hash(inputpass).hex():\n",
    "            print (\"Correct password! The secret message is: I love mangoes!\")\n",
    "            found = True\n",
    "\n",
    "    if not found:\n",
    "        print(\"WRONG!\")"
   ]
  },
  {
   "cell_type": "code",
   "execution_count": 5,
   "id": "430463f0",
   "metadata": {},
   "outputs": [
    {
     "name": "stdout",
     "output_type": "stream",
     "text": [
      "hashlist:  ['3a7bd3e2360a3d29eea436fcfb7e44c735d117c42d1c1835420b6b9942dd4f1b']\n",
      "Software Execution time:  0.007336139678955078\n",
      "WRONG!\n",
      "*****************************************************\n",
      "hashlist:  ['3a7bd3e2360a3d29eea436fcfb7e44c735d117c42d1c1835420b6b9942dd4f1b']\n",
      "Software Execution time:  0.008130788803100586\n",
      "Correct password! The secret message is: I love mangoes!\n"
     ]
    }
   ],
   "source": [
    "check_pass(\"mango\")\n",
    "print(\"*****************************************************\")\n",
    "check_pass(\"apple\")"
   ]
  },
  {
   "cell_type": "code",
   "execution_count": 6,
   "id": "d1514dba",
   "metadata": {},
   "outputs": [],
   "source": [
    "# We want the input to the sha256 hardware function to be a stream of integers\n",
    "# representing the input string in ASCII. IT MUST BE 64 ELEMENTS LONG WITH THE\n",
    "# 64TH ELEMENT BEING 0x18\n",
    "initArray = [0,0,0,0,0,0,0,0,0,0,0,0,0,0,0,0,0,0,0,0,0,0,0,0,0,0,0,0,0,0,0,0,0,\n",
    "              0,0,0,0,0,0,0,0,0,0,0,0,0,0,0,0,0,0,0,0,0,0,0,0,0,0,0,0,0,0,0,0x18]\n",
    "def str2ascii(string, nparray):\n",
    "    index = 0\n",
    "    insert = []\n",
    "    insert.extend(ord(element) for element in string)\n",
    "    for i in insert:\n",
    "        nparray[index] = insert[index]\n",
    "        index += 1\n",
    "    print(nparray)\n",
    "    \n",
    "def output2hash(outstream):\n",
    "    finaloutput = \"\"\n",
    "    for i in outstream:\n",
    "        finaloutput += ord(i)\n",
    "    return finaloutput"
   ]
  },
  {
   "cell_type": "code",
   "execution_count": 7,
   "id": "82b97cd7",
   "metadata": {},
   "outputs": [
    {
     "name": "stdout",
     "output_type": "stream",
     "text": [
      "[97, 98, 99, 0, 0, 0, 0, 0, 0, 0, 0, 0, 0, 0, 0, 0, 0, 0, 0, 0, 0, 0, 0, 0, 0, 0, 0, 0, 0, 0, 0, 0, 0, 0, 0, 0, 0, 0, 0, 0, 0, 0, 0, 0, 0, 0, 0, 0, 0, 0, 0, 0, 0, 0, 0, 0, 0, 0, 0, 0, 0, 0, 0, 0, 24]\n"
     ]
    }
   ],
   "source": [
    "str2ascii(\"abc\", initArray)"
   ]
  },
  {
   "cell_type": "code",
   "execution_count": 8,
   "id": "e9bd939f",
   "metadata": {},
   "outputs": [
    {
     "data": {
      "application/javascript": [
       "\n",
       "try {\n",
       "require(['notebook/js/codecell'], function(codecell) {\n",
       "  codecell.CodeCell.options_default.highlight_modes[\n",
       "      'magic_text/x-csrc'] = {'reg':[/^%%microblaze/]};\n",
       "  Jupyter.notebook.events.one('kernel_ready.Kernel', function(){\n",
       "      Jupyter.notebook.get_cells().map(function(cell){\n",
       "          if (cell.cell_type == 'code'){ cell.auto_highlight(); } }) ;\n",
       "  });\n",
       "});\n",
       "} catch (e) {};\n"
      ]
     },
     "metadata": {},
     "output_type": "display_data"
    },
    {
     "data": {
      "application/javascript": [
       "\n",
       "try {\n",
       "require(['notebook/js/codecell'], function(codecell) {\n",
       "  codecell.CodeCell.options_default.highlight_modes[\n",
       "      'magic_text/x-csrc'] = {'reg':[/^%%pybind11/]};\n",
       "  Jupyter.notebook.events.one('kernel_ready.Kernel', function(){\n",
       "      Jupyter.notebook.get_cells().map(function(cell){\n",
       "          if (cell.cell_type == 'code'){ cell.auto_highlight(); } }) ;\n",
       "  });\n",
       "});\n",
       "} catch (e) {};\n"
      ]
     },
     "metadata": {},
     "output_type": "display_data"
    },
    {
     "data": {
      "text/plain": [
       "RegisterMap {\n",
       "  CTRL = Register(AP_START=0, AP_DONE=0, AP_IDLE=1, AP_READY=0, RESERVED_1=0, AUTO_RESTART=0, RESERVED_2=0, INTERRUPT=0, RESERVED_3=0),\n",
       "  GIER = Register(Enable=0, RESERVED=0),\n",
       "  IP_IER = Register(CHAN0_INT_EN=0, CHAN1_INT_EN=0, RESERVED_0=0),\n",
       "  IP_ISR = Register(CHAN0_INT_ST=0, CHAN1_INT_ST=0, RESERVED_0=0)\n",
       "}"
      ]
     },
     "execution_count": 8,
     "metadata": {},
     "output_type": "execute_result"
    }
   ],
   "source": [
    "# Import the overlay\n",
    "from pynq import Overlay\n",
    "overlay = Overlay('/home/xilinx/jupyter_notebooks/mynotebooks/sha256/sha256.bit')\n",
    "overlay.sha256_0.register_map"
   ]
  },
  {
   "cell_type": "code",
   "execution_count": 22,
   "id": "302cbaf1",
   "metadata": {},
   "outputs": [],
   "source": [
    "# Adding SHA256 Axi Stream Overlay\n",
    "# NOTE: INPUT STRING MUST BE 63 CHARs or less\n",
    "from pynq import allocate\n",
    "import numpy as np\n",
    "import timeit as t\n",
    "from pynq import Overlay\n",
    "\n",
    "def sha256_hardware(string):\n",
    "    data_size = 64\n",
    "    initArray = [0x00,0x00,0x00,0x00,0x00,0x00,0x00,0x00,0x00,0x00,0x00,0x00,0x00,0x00,\n",
    "                 0x00,0x00,0x00,0x00,0x00,0x00,0x00,0x00,0x00,0x00,0x00,0x00,0x00,0x00,\n",
    "                 0x00,0x00,0x00,0x00,0x00,0x00,0x00,0x00,0x00,0x00,0x00,0x00,0x00,0x00,\n",
    "                 0x00,0x00,0x00,0x00,0x00,0x00,0x00,0x00,0x00,0x00,0x00,0x00,0x00,0x00,\n",
    "                 0x00,0x00,0x00,0x00,0x00,0x00,0x00,0x00]\n",
    "    str2ascii(string,initArray)\n",
    "    overlay = Overlay('/home/xilinx/jupyter_notebooks/mynotebooks/sha256/sha256.bit')\n",
    "    dma = overlay.axi_dma\n",
    "    dma_send = overlay.axi_dma.sendchannel\n",
    "    dma_recv = overlay.axi_dma.recvchannel\n",
    "    hls_ip = overlay.sha256_0\n",
    "    CONTROL_REGISTER = 0x00\n",
    "    hls_ip.write(CONTROL_REGISTER, 0x01) # 0x01 will set bit 0\n",
    "    input_buffer = allocate(shape=(data_size,),dtype=np.uint32)\n",
    "    for i in range(data_size):\n",
    "        input_buffer[i] = initArray[i]\n",
    "    print(\"input buffer = \", input_buffer)\n",
    "    start = t.default_timer()\n",
    "    dma_send.transfer(input_buffer)\n",
    "    output_buffer = allocate(shape=(32,), dtype=np.ubyte)\n",
    "    dma_recv.transfer(output_buffer)\n",
    "    end = t.default_timer()\n",
    "    print(\"Axi_stream output list: \", output_buffer)\n",
    "    print(\"Output hash:\")\n",
    "    for i in range(len(output_buffer)):\n",
    "        print(format(output_buffer[i], '02x'), end='')\n",
    "    print(\"\")\n",
    "    print(\"Hardware execution time: \", end - start)\n",
    "    del input_buffer, output_buffer"
   ]
  },
  {
   "cell_type": "code",
   "execution_count": 23,
   "id": "7c15127c",
   "metadata": {},
   "outputs": [
    {
     "name": "stdout",
     "output_type": "stream",
     "text": [
      "[97, 98, 99, 49, 50, 51, 0, 0, 0, 0, 0, 0, 0, 0, 0, 0, 0, 0, 0, 0, 0, 0, 0, 0, 0, 0, 0, 0, 0, 0, 0, 0, 0, 0, 0, 0, 0, 0, 0, 0, 0, 0, 0, 0, 0, 0, 0, 0, 0, 0, 0, 0, 0, 0, 0, 0, 0, 0, 0, 0, 0, 0, 0, 0]\n",
      "input buffer =  [97 98 99 49 50 51  0  0  0  0  0  0  0  0  0  0  0  0  0  0  0  0  0  0\n",
      "  0  0  0  0  0  0  0  0  0  0  0  0  0  0  0  0  0  0  0  0  0  0  0  0\n",
      "  0  0  0  0  0  0  0  0  0  0  0  0  0  0  0  0]\n",
      "Axi_stream output list:  [245  16  48 228 165  98 253  34  88  62  61  18 227  61  34 243 141 174\n",
      " 136 110 209  29 100 143 108  24 175 120  14  26 216 189]\n",
      "Output hash:\n",
      "f51030e4a562fd22583e3d12e33d22f38dae886ed11d648f6c18af780e1ad8bd\n",
      "Hardware execution time:  0.0034696920001806575\n"
     ]
    }
   ],
   "source": [
    "sha256_hardware(\"abc123\")"
   ]
  },
  {
   "cell_type": "code",
   "execution_count": 24,
   "id": "7f905b8e",
   "metadata": {},
   "outputs": [
    {
     "name": "stdout",
     "output_type": "stream",
     "text": [
      "[97, 112, 112, 108, 101, 0, 0, 0, 0, 0, 0, 0, 0, 0, 0, 0, 0, 0, 0, 0, 0, 0, 0, 0, 0, 0, 0, 0, 0, 0, 0, 0, 0, 0, 0, 0, 0, 0, 0, 0, 0, 0, 0, 0, 0, 0, 0, 0, 0, 0, 0, 0, 0, 0, 0, 0, 0, 0, 0, 0, 0, 0, 0, 0]\n",
      "input buffer =  [ 97 112 112 108 101   0   0   0   0   0   0   0   0   0   0   0   0   0\n",
      "   0   0   0   0   0   0   0   0   0   0   0   0   0   0   0   0   0   0\n",
      "   0   0   0   0   0   0   0   0   0   0   0   0   0   0   0   0   0   0\n",
      "   0   0   0   0   0   0   0   0   0   0]\n",
      "Axi_stream output list:  [106   1  58  79 248 212 161 210 179 129 186 215 200   5 236  35 254  70\n",
      " 173  58  62 178 184 140  31 252  71 241 152 253   6  90]\n",
      "Output hash:\n",
      "6a013a4ff8d4a1d2b381bad7c805ec23fe46ad3a3eb2b88c1ffc47f198fd065a\n",
      "Hardware execution time:  0.0018460250000771339\n"
     ]
    }
   ],
   "source": [
    "sha256_hardware(\"apple\")"
   ]
  },
  {
   "cell_type": "code",
   "execution_count": 26,
   "id": "24a73fab",
   "metadata": {},
   "outputs": [
    {
     "name": "stdout",
     "output_type": "stream",
     "text": [
      "HERE IS A DEMONSTRATION OF THE SOFTWARE AND HARDWARE FUNCTIONS RUNNING WITH THE SAME INPUTS. PLEASE NOTE, THE RESULTS ARE DIFFERENT DUE TO DIFFERENCE IN CASH CALCULATION MATH AND INITIAL HASH SET IN THE PRELOADED REGISTERS. HOWEVER, THESE ARE STILL VALID HASHES\n",
      "Software Execution time:  0.005578041076660156\n",
      "ba7816bf8f01cfea414140de5dae2223b00361a396177a9cb410ff61f20015ad\n",
      "********************************************\n",
      "Software Execution time:  0.0056040287017822266\n",
      "6ca13d52ca70c883e0f0bb101e425a89e8624de51db2d2392593af6a84118090\n",
      "********************************************\n",
      "Software Execution time:  0.005628824234008789\n",
      "6815f3c300383519de8e437497e2c3e97852fe8d717a5419d5aafb00cb43c494\n",
      "********************************************\n",
      "Software Execution time:  0.005520343780517578\n",
      "3a7bd3e2360a3d29eea436fcfb7e44c735d117c42d1c1835420b6b9942dd4f1b\n",
      "******************************************************************************************************************\n",
      "[97, 98, 99, 0, 0, 0, 0, 0, 0, 0, 0, 0, 0, 0, 0, 0, 0, 0, 0, 0, 0, 0, 0, 0, 0, 0, 0, 0, 0, 0, 0, 0, 0, 0, 0, 0, 0, 0, 0, 0, 0, 0, 0, 0, 0, 0, 0, 0, 0, 0, 0, 0, 0, 0, 0, 0, 0, 0, 0, 0, 0, 0, 0, 0]\n",
      "input buffer =  [97 98 99  0  0  0  0  0  0  0  0  0  0  0  0  0  0  0  0  0  0  0  0  0\n",
      "  0  0  0  0  0  0  0  0  0  0  0  0  0  0  0  0  0  0  0  0  0  0  0  0\n",
      "  0  0  0  0  0  0  0  0  0  0  0  0  0  0  0  0]\n",
      "Axi_stream output list:  [183 101 192  77 199 121 201 143 118  43  38 174 180 140 220 203 225  83\n",
      "  32 210  24  15  61 134 109  23  72  79 252 163 171 151]\n",
      "Output hash:\n",
      "b765c04dc779c98f762b26aeb48cdccbe15320d2180f3d866d17484ffca3ab97\n",
      "Hardware execution time:  0.003335193999873809\n",
      "********************************************\n",
      "[97, 98, 99, 49, 50, 51, 0, 0, 0, 0, 0, 0, 0, 0, 0, 0, 0, 0, 0, 0, 0, 0, 0, 0, 0, 0, 0, 0, 0, 0, 0, 0, 0, 0, 0, 0, 0, 0, 0, 0, 0, 0, 0, 0, 0, 0, 0, 0, 0, 0, 0, 0, 0, 0, 0, 0, 0, 0, 0, 0, 0, 0, 0, 0]\n",
      "input buffer =  [97 98 99 49 50 51  0  0  0  0  0  0  0  0  0  0  0  0  0  0  0  0  0  0\n",
      "  0  0  0  0  0  0  0  0  0  0  0  0  0  0  0  0  0  0  0  0  0  0  0  0\n",
      "  0  0  0  0  0  0  0  0  0  0  0  0  0  0  0  0]\n",
      "Axi_stream output list:  [245  16  48 228 165  98 253  34  88  62  61  18 227  61  34 243 141 174\n",
      " 136 110 209  29 100 143 108  24 175 120  14  26 216 189]\n",
      "Output hash:\n",
      "f51030e4a562fd22583e3d12e33d22f38dae886ed11d648f6c18af780e1ad8bd\n",
      "Hardware execution time:  0.003479925999954503\n",
      "********************************************\n",
      "[109, 97, 110, 103, 111, 0, 0, 0, 0, 0, 0, 0, 0, 0, 0, 0, 0, 0, 0, 0, 0, 0, 0, 0, 0, 0, 0, 0, 0, 0, 0, 0, 0, 0, 0, 0, 0, 0, 0, 0, 0, 0, 0, 0, 0, 0, 0, 0, 0, 0, 0, 0, 0, 0, 0, 0, 0, 0, 0, 0, 0, 0, 0, 0]\n",
      "input buffer =  [109  97 110 103 111   0   0   0   0   0   0   0   0   0   0   0   0   0\n",
      "   0   0   0   0   0   0   0   0   0   0   0   0   0   0   0   0   0   0\n",
      "   0   0   0   0   0   0   0   0   0   0   0   0   0   0   0   0   0   0\n",
      "   0   0   0   0   0   0   0   0   0   0]\n",
      "Axi_stream output list:  [185 203  67 250  11 234  38 122 157 117 234 132  72 152  16  16 252  65\n",
      " 126 147 101 230 105  84   4 118  68  39 168 163 169 210]\n",
      "Output hash:\n",
      "b9cb43fa0bea267a9d75ea8448981010fc417e9365e6695404764427a8a3a9d2\n",
      "Hardware execution time:  0.0033642649998455454\n",
      "********************************************\n",
      "[97, 112, 112, 108, 101, 0, 0, 0, 0, 0, 0, 0, 0, 0, 0, 0, 0, 0, 0, 0, 0, 0, 0, 0, 0, 0, 0, 0, 0, 0, 0, 0, 0, 0, 0, 0, 0, 0, 0, 0, 0, 0, 0, 0, 0, 0, 0, 0, 0, 0, 0, 0, 0, 0, 0, 0, 0, 0, 0, 0, 0, 0, 0, 0]\n",
      "input buffer =  [ 97 112 112 108 101   0   0   0   0   0   0   0   0   0   0   0   0   0\n",
      "   0   0   0   0   0   0   0   0   0   0   0   0   0   0   0   0   0   0\n",
      "   0   0   0   0   0   0   0   0   0   0   0   0   0   0   0   0   0   0\n",
      "   0   0   0   0   0   0   0   0   0   0]\n",
      "Axi_stream output list:  [106   1  58  79 248 212 161 210 179 129 186 215 200   5 236  35 254  70\n",
      " 173  58  62 178 184 140  31 252  71 241 152 253   6  90]\n",
      "Output hash:\n",
      "6a013a4ff8d4a1d2b381bad7c805ec23fe46ad3a3eb2b88c1ffc47f198fd065a\n",
      "Hardware execution time:  0.001927932999933546\n",
      "********************************************\n"
     ]
    }
   ],
   "source": [
    "print(\"HERE IS A DEMONSTRATION OF THE SOFTWARE AND HARDWARE FUNCTIONS RUNNING WITH THE SAME INPUTS. PLEASE NOTE, THE RESULTS ARE DIFFERENT DUE TO DIFFERENCE IN CASH CALCULATION MATH AND INITIAL HASH SET IN THE PRELOADED REGISTERS. HOWEVER, THESE ARE STILL VALID HASHES\")\n",
    "print(generate_hash(\"abc\").hex())\n",
    "print(\"********************************************\")\n",
    "print(generate_hash(\"abc123\").hex())\n",
    "print(\"********************************************\")\n",
    "print(generate_hash(\"mango\").hex())\n",
    "print(\"********************************************\")\n",
    "print(generate_hash(\"apple\").hex())\n",
    "print(\"******************************************************************************************************************\")\n",
    "sha256_hardware(\"abc\")\n",
    "print(\"********************************************\")\n",
    "sha256_hardware(\"abc123\")\n",
    "print(\"********************************************\")\n",
    "sha256_hardware(\"mango\")\n",
    "print(\"********************************************\")\n",
    "sha256_hardware(\"apple\")\n",
    "print(\"********************************************\")"
   ]
  },
  {
   "cell_type": "code",
   "execution_count": null,
   "id": "2afee070",
   "metadata": {},
   "outputs": [],
   "source": []
  }
 ],
 "metadata": {
  "kernelspec": {
   "display_name": "Python 3 (ipykernel)",
   "language": "python",
   "name": "python3"
  },
  "language_info": {
   "codemirror_mode": {
    "name": "ipython",
    "version": 3
   },
   "file_extension": ".py",
   "mimetype": "text/x-python",
   "name": "python",
   "nbconvert_exporter": "python",
   "pygments_lexer": "ipython3",
   "version": "3.10.4"
  }
 },
 "nbformat": 4,
 "nbformat_minor": 5
}
